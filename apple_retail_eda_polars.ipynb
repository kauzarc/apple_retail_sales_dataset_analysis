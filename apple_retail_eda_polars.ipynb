{
 "cells": [
  {
   "cell_type": "code",
   "execution_count": 1,
   "id": "a21ad817-7040-402c-adc0-b4160ff030e8",
   "metadata": {},
   "outputs": [],
   "source": [
    "import polars as pl"
   ]
  },
  {
   "cell_type": "markdown",
   "id": "efdcdf9e-2c2e-421e-a310-dd01d4b1b044",
   "metadata": {},
   "source": [
    "## Exploration and cleanup"
   ]
  },
  {
   "cell_type": "code",
   "execution_count": 2,
   "id": "20fdc42e-0f19-4d3d-8575-95ad1b490a30",
   "metadata": {},
   "outputs": [
    {
     "data": {
      "text/html": [
       "<div><style>\n",
       ".dataframe > thead > tr,\n",
       ".dataframe > tbody > tr {\n",
       "  text-align: right;\n",
       "  white-space: pre-wrap;\n",
       "}\n",
       "</style>\n",
       "<small>shape: (5, 2)</small><table border=\"1\" class=\"dataframe\"><thead><tr><th>category_id</th><th>category_name</th></tr><tr><td>str</td><td>str</td></tr></thead><tbody><tr><td>&quot;CAT-1&quot;</td><td>&quot;Laptop&quot;</td></tr><tr><td>&quot;CAT-2&quot;</td><td>&quot;Audio&quot;</td></tr><tr><td>&quot;CAT-3&quot;</td><td>&quot;Tablet&quot;</td></tr><tr><td>&quot;CAT-4&quot;</td><td>&quot;Smartphone&quot;</td></tr><tr><td>&quot;CAT-5&quot;</td><td>&quot;Wearable&quot;</td></tr></tbody></table></div>"
      ],
      "text/plain": [
       "shape: (5, 2)\n",
       "┌─────────────┬───────────────┐\n",
       "│ category_id ┆ category_name │\n",
       "│ ---         ┆ ---           │\n",
       "│ str         ┆ str           │\n",
       "╞═════════════╪═══════════════╡\n",
       "│ CAT-1       ┆ Laptop        │\n",
       "│ CAT-2       ┆ Audio         │\n",
       "│ CAT-3       ┆ Tablet        │\n",
       "│ CAT-4       ┆ Smartphone    │\n",
       "│ CAT-5       ┆ Wearable      │\n",
       "└─────────────┴───────────────┘"
      ]
     },
     "execution_count": 2,
     "metadata": {},
     "output_type": "execute_result"
    }
   ],
   "source": [
    "category = pl.scan_csv('data/category.csv')\n",
    "\n",
    "category.head().collect()"
   ]
  },
  {
   "cell_type": "code",
   "execution_count": 3,
   "id": "e99452e2-de05-4f46-b5cb-2eab2bf3e09f",
   "metadata": {},
   "outputs": [
    {
     "data": {
      "text/html": [
       "<div><style>\n",
       ".dataframe > thead > tr,\n",
       ".dataframe > tbody > tr {\n",
       "  text-align: right;\n",
       "  white-space: pre-wrap;\n",
       "}\n",
       "</style>\n",
       "<small>shape: (5, 5)</small><table border=\"1\" class=\"dataframe\"><thead><tr><th>product_id</th><th>product_name</th><th>category_id</th><th>launch_date</th><th>price</th></tr><tr><td>str</td><td>str</td><td>str</td><td>date</td><td>i64</td></tr></thead><tbody><tr><td>&quot;P-1&quot;</td><td>&quot;MacBook&quot;</td><td>&quot;CAT-1&quot;</td><td>2023-09-17</td><td>1149</td></tr><tr><td>&quot;P-2&quot;</td><td>&quot;MacBook Air (M1)&quot;</td><td>&quot;CAT-1&quot;</td><td>2023-11-11</td><td>1783</td></tr><tr><td>&quot;P-3&quot;</td><td>&quot;MacBook Air (M2)&quot;</td><td>&quot;CAT-1&quot;</td><td>2020-05-24</td><td>1588</td></tr><tr><td>&quot;P-4&quot;</td><td>&quot;MacBook Pro 13-inch&quot;</td><td>&quot;CAT-1&quot;</td><td>2021-01-17</td><td>1351</td></tr><tr><td>&quot;P-5&quot;</td><td>&quot;MacBook Pro 14-inch&quot;</td><td>&quot;CAT-1&quot;</td><td>2024-05-12</td><td>768</td></tr></tbody></table></div>"
      ],
      "text/plain": [
       "shape: (5, 5)\n",
       "┌────────────┬─────────────────────┬─────────────┬─────────────┬───────┐\n",
       "│ product_id ┆ product_name        ┆ category_id ┆ launch_date ┆ price │\n",
       "│ ---        ┆ ---                 ┆ ---         ┆ ---         ┆ ---   │\n",
       "│ str        ┆ str                 ┆ str         ┆ date        ┆ i64   │\n",
       "╞════════════╪═════════════════════╪═════════════╪═════════════╪═══════╡\n",
       "│ P-1        ┆ MacBook             ┆ CAT-1       ┆ 2023-09-17  ┆ 1149  │\n",
       "│ P-2        ┆ MacBook Air (M1)    ┆ CAT-1       ┆ 2023-11-11  ┆ 1783  │\n",
       "│ P-3        ┆ MacBook Air (M2)    ┆ CAT-1       ┆ 2020-05-24  ┆ 1588  │\n",
       "│ P-4        ┆ MacBook Pro 13-inch ┆ CAT-1       ┆ 2021-01-17  ┆ 1351  │\n",
       "│ P-5        ┆ MacBook Pro 14-inch ┆ CAT-1       ┆ 2024-05-12  ┆ 768   │\n",
       "└────────────┴─────────────────────┴─────────────┴─────────────┴───────┘"
      ]
     },
     "execution_count": 3,
     "metadata": {},
     "output_type": "execute_result"
    }
   ],
   "source": [
    "products = (\n",
    "    pl.scan_csv('data/products.csv', try_parse_dates=True)\n",
    "    .rename(str.lower)\n",
    ")\n",
    "\n",
    "products.head().collect()"
   ]
  },
  {
   "cell_type": "code",
   "execution_count": 4,
   "id": "7bc747f4-6d19-4634-ab33-0cb5338ff5dc",
   "metadata": {},
   "outputs": [
    {
     "data": {
      "text/html": [
       "<div><style>\n",
       ".dataframe > thead > tr,\n",
       ".dataframe > tbody > tr {\n",
       "  text-align: right;\n",
       "  white-space: pre-wrap;\n",
       "}\n",
       "</style>\n",
       "<small>shape: (5, 4)</small><table border=\"1\" class=\"dataframe\"><thead><tr><th>store_id</th><th>store_name</th><th>city</th><th>country</th></tr><tr><td>str</td><td>str</td><td>str</td><td>str</td></tr></thead><tbody><tr><td>&quot;ST-1&quot;</td><td>&quot;Apple Fifth Avenue&quot;</td><td>&quot;New York&quot;</td><td>&quot;United States&quot;</td></tr><tr><td>&quot;ST-2&quot;</td><td>&quot;Apple Union Square&quot;</td><td>&quot;San Francisco&quot;</td><td>&quot;United States&quot;</td></tr><tr><td>&quot;ST-3&quot;</td><td>&quot;Apple Michigan Avenue&quot;</td><td>&quot;Chicago&quot;</td><td>&quot;United States&quot;</td></tr><tr><td>&quot;ST-4&quot;</td><td>&quot;Apple The Grove&quot;</td><td>&quot;Los Angeles&quot;</td><td>&quot;United States&quot;</td></tr><tr><td>&quot;ST-5&quot;</td><td>&quot;Apple SoHo&quot;</td><td>&quot;New York&quot;</td><td>&quot;United States&quot;</td></tr></tbody></table></div>"
      ],
      "text/plain": [
       "shape: (5, 4)\n",
       "┌──────────┬───────────────────────┬───────────────┬───────────────┐\n",
       "│ store_id ┆ store_name            ┆ city          ┆ country       │\n",
       "│ ---      ┆ ---                   ┆ ---           ┆ ---           │\n",
       "│ str      ┆ str                   ┆ str           ┆ str           │\n",
       "╞══════════╪═══════════════════════╪═══════════════╪═══════════════╡\n",
       "│ ST-1     ┆ Apple Fifth Avenue    ┆ New York      ┆ United States │\n",
       "│ ST-2     ┆ Apple Union Square    ┆ San Francisco ┆ United States │\n",
       "│ ST-3     ┆ Apple Michigan Avenue ┆ Chicago       ┆ United States │\n",
       "│ ST-4     ┆ Apple The Grove       ┆ Los Angeles   ┆ United States │\n",
       "│ ST-5     ┆ Apple SoHo            ┆ New York      ┆ United States │\n",
       "└──────────┴───────────────────────┴───────────────┴───────────────┘"
      ]
     },
     "execution_count": 4,
     "metadata": {},
     "output_type": "execute_result"
    }
   ],
   "source": [
    "stores = (\n",
    "    pl.scan_csv('data/stores.csv')\n",
    "    .rename(str.lower)\n",
    ")\n",
    "\n",
    "stores.head().collect()"
   ]
  },
  {
   "cell_type": "code",
   "execution_count": 5,
   "id": "6470e21d-8ca8-47be-a2d4-81330d3679ee",
   "metadata": {},
   "outputs": [
    {
     "data": {
      "text/html": [
       "<div><style>\n",
       ".dataframe > thead > tr,\n",
       ".dataframe > tbody > tr {\n",
       "  text-align: right;\n",
       "  white-space: pre-wrap;\n",
       "}\n",
       "</style>\n",
       "<small>shape: (5, 5)</small><table border=\"1\" class=\"dataframe\"><thead><tr><th>sale_id</th><th>sale_date</th><th>store_id</th><th>product_id</th><th>quantity</th></tr><tr><td>str</td><td>date</td><td>str</td><td>str</td><td>i64</td></tr></thead><tbody><tr><td>&quot;YG-8782&quot;</td><td>2023-06-16</td><td>&quot;ST-10&quot;</td><td>&quot;P-38&quot;</td><td>10</td></tr><tr><td>&quot;QX-999001&quot;</td><td>2022-04-13</td><td>&quot;ST-63&quot;</td><td>&quot;P-48&quot;</td><td>10</td></tr><tr><td>&quot;JG-46890&quot;</td><td>2021-07-05</td><td>&quot;ST-26&quot;</td><td>&quot;P-79&quot;</td><td>5</td></tr><tr><td>&quot;XJ-1731&quot;</td><td>2022-07-20</td><td>&quot;ST-15&quot;</td><td>&quot;P-24&quot;</td><td>9</td></tr><tr><td>&quot;FG-95080&quot;</td><td>2022-03-18</td><td>&quot;ST-35&quot;</td><td>&quot;P-69&quot;</td><td>7</td></tr></tbody></table></div>"
      ],
      "text/plain": [
       "shape: (5, 5)\n",
       "┌───────────┬────────────┬──────────┬────────────┬──────────┐\n",
       "│ sale_id   ┆ sale_date  ┆ store_id ┆ product_id ┆ quantity │\n",
       "│ ---       ┆ ---        ┆ ---      ┆ ---        ┆ ---      │\n",
       "│ str       ┆ date       ┆ str      ┆ str        ┆ i64      │\n",
       "╞═══════════╪════════════╪══════════╪════════════╪══════════╡\n",
       "│ YG-8782   ┆ 2023-06-16 ┆ ST-10    ┆ P-38       ┆ 10       │\n",
       "│ QX-999001 ┆ 2022-04-13 ┆ ST-63    ┆ P-48       ┆ 10       │\n",
       "│ JG-46890  ┆ 2021-07-05 ┆ ST-26    ┆ P-79       ┆ 5        │\n",
       "│ XJ-1731   ┆ 2022-07-20 ┆ ST-15    ┆ P-24       ┆ 9        │\n",
       "│ FG-95080  ┆ 2022-03-18 ┆ ST-35    ┆ P-69       ┆ 7        │\n",
       "└───────────┴────────────┴──────────┴────────────┴──────────┘"
      ]
     },
     "execution_count": 5,
     "metadata": {},
     "output_type": "execute_result"
    }
   ],
   "source": [
    "sales = pl.scan_csv('data/sales.csv', try_parse_dates=True)\n",
    "\n",
    "sales.head().collect()"
   ]
  },
  {
   "cell_type": "code",
   "execution_count": 6,
   "id": "899b7b63-ff36-4038-84f1-efa402221fa3",
   "metadata": {},
   "outputs": [
    {
     "data": {
      "text/html": [
       "<div><style>\n",
       ".dataframe > thead > tr,\n",
       ".dataframe > tbody > tr {\n",
       "  text-align: right;\n",
       "  white-space: pre-wrap;\n",
       "}\n",
       "</style>\n",
       "<small>shape: (5, 5)</small><table border=\"1\" class=\"dataframe\"><thead><tr><th>sale_id</th><th>sale_date</th><th>store_id</th><th>product_id</th><th>quantity</th></tr><tr><td>str</td><td>date</td><td>str</td><td>str</td><td>i64</td></tr></thead><tbody><tr><td>&quot;YG-8782&quot;</td><td>2023-06-16</td><td>&quot;ST-10&quot;</td><td>&quot;P-38&quot;</td><td>10</td></tr><tr><td>&quot;QX-999001&quot;</td><td>2022-04-13</td><td>&quot;ST-63&quot;</td><td>&quot;P-48&quot;</td><td>10</td></tr><tr><td>&quot;JG-46890&quot;</td><td>2021-07-05</td><td>&quot;ST-26&quot;</td><td>&quot;P-79&quot;</td><td>5</td></tr><tr><td>&quot;XJ-1731&quot;</td><td>2022-07-20</td><td>&quot;ST-15&quot;</td><td>&quot;P-24&quot;</td><td>9</td></tr><tr><td>&quot;FG-95080&quot;</td><td>2022-03-18</td><td>&quot;ST-35&quot;</td><td>&quot;P-69&quot;</td><td>7</td></tr></tbody></table></div>"
      ],
      "text/plain": [
       "shape: (5, 5)\n",
       "┌───────────┬────────────┬──────────┬────────────┬──────────┐\n",
       "│ sale_id   ┆ sale_date  ┆ store_id ┆ product_id ┆ quantity │\n",
       "│ ---       ┆ ---        ┆ ---      ┆ ---        ┆ ---      │\n",
       "│ str       ┆ date       ┆ str      ┆ str        ┆ i64      │\n",
       "╞═══════════╪════════════╪══════════╪════════════╪══════════╡\n",
       "│ YG-8782   ┆ 2023-06-16 ┆ ST-10    ┆ P-38       ┆ 10       │\n",
       "│ QX-999001 ┆ 2022-04-13 ┆ ST-63    ┆ P-48       ┆ 10       │\n",
       "│ JG-46890  ┆ 2021-07-05 ┆ ST-26    ┆ P-79       ┆ 5        │\n",
       "│ XJ-1731   ┆ 2022-07-20 ┆ ST-15    ┆ P-24       ┆ 9        │\n",
       "│ FG-95080  ┆ 2022-03-18 ┆ ST-35    ┆ P-69       ┆ 7        │\n",
       "└───────────┴────────────┴──────────┴────────────┴──────────┘"
      ]
     },
     "execution_count": 6,
     "metadata": {},
     "output_type": "execute_result"
    }
   ],
   "source": [
    "warranty = pl.scan_csv('data/warranty.csv', try_parse_dates=True)\n",
    "\n",
    "sales.head().collect()"
   ]
  },
  {
   "cell_type": "code",
   "execution_count": 17,
   "id": "5efe1661-19f7-468b-a980-70a8cfcd220c",
   "metadata": {},
   "outputs": [
    {
     "data": {
      "text/html": [
       "<div><style>\n",
       ".dataframe > thead > tr,\n",
       ".dataframe > tbody > tr {\n",
       "  text-align: right;\n",
       "  white-space: pre-wrap;\n",
       "}\n",
       "</style>\n",
       "<small>shape: (95, 5)</small><table border=\"1\" class=\"dataframe\"><thead><tr><th>year</th><th>country</th><th>n_orders</th><th>units_sold</th><th>total_revenue</th></tr><tr><td>u64</td><td>str</td><td>u64</td><td>u64</td><td>u64</td></tr></thead><tbody><tr><td>2020</td><td>&quot;Australia&quot;</td><td>19990</td><td>110341</td><td>118359049</td></tr><tr><td>2020</td><td>&quot;Austria&quot;</td><td>2790</td><td>15379</td><td>16846043</td></tr><tr><td>2020</td><td>&quot;Canada&quot;</td><td>14377</td><td>78965</td><td>85102058</td></tr><tr><td>2020</td><td>&quot;China&quot;</td><td>19967</td><td>110088</td><td>118359886</td></tr><tr><td>2020</td><td>&quot;Colombia&quot;</td><td>5563</td><td>29967</td><td>32355688</td></tr><tr><td>&hellip;</td><td>&hellip;</td><td>&hellip;</td><td>&hellip;</td><td>&hellip;</td></tr><tr><td>2024</td><td>&quot;Taiwan&quot;</td><td>2456</td><td>13593</td><td>14689981</td></tr><tr><td>2024</td><td>&quot;Thailand&quot;</td><td>7353</td><td>40322</td><td>43487986</td></tr><tr><td>2024</td><td>&quot;UAE&quot;</td><td>12153</td><td>66835</td><td>72172319</td></tr><tr><td>2024</td><td>&quot;United Kingdom&quot;</td><td>9944</td><td>54978</td><td>59035920</td></tr><tr><td>2024</td><td>&quot;United States&quot;</td><td>37028</td><td>204447</td><td>220653559</td></tr></tbody></table></div>"
      ],
      "text/plain": [
       "shape: (95, 5)\n",
       "┌──────┬────────────────┬──────────┬────────────┬───────────────┐\n",
       "│ year ┆ country        ┆ n_orders ┆ units_sold ┆ total_revenue │\n",
       "│ ---  ┆ ---            ┆ ---      ┆ ---        ┆ ---           │\n",
       "│ u64  ┆ str            ┆ u64      ┆ u64        ┆ u64           │\n",
       "╞══════╪════════════════╪══════════╪════════════╪═══════════════╡\n",
       "│ 2020 ┆ Australia      ┆ 19990    ┆ 110341     ┆ 118359049     │\n",
       "│ 2020 ┆ Austria        ┆ 2790     ┆ 15379      ┆ 16846043      │\n",
       "│ 2020 ┆ Canada         ┆ 14377    ┆ 78965      ┆ 85102058      │\n",
       "│ 2020 ┆ China          ┆ 19967    ┆ 110088     ┆ 118359886     │\n",
       "│ 2020 ┆ Colombia       ┆ 5563     ┆ 29967      ┆ 32355688      │\n",
       "│ …    ┆ …              ┆ …        ┆ …          ┆ …             │\n",
       "│ 2024 ┆ Taiwan         ┆ 2456     ┆ 13593      ┆ 14689981      │\n",
       "│ 2024 ┆ Thailand       ┆ 7353     ┆ 40322      ┆ 43487986      │\n",
       "│ 2024 ┆ UAE            ┆ 12153    ┆ 66835      ┆ 72172319      │\n",
       "│ 2024 ┆ United Kingdom ┆ 9944     ┆ 54978      ┆ 59035920      │\n",
       "│ 2024 ┆ United States  ┆ 37028    ┆ 204447     ┆ 220653559     │\n",
       "└──────┴────────────────┴──────────┴────────────┴───────────────┘"
      ]
     },
     "execution_count": 17,
     "metadata": {},
     "output_type": "execute_result"
    }
   ],
   "source": [
    "agg_sales = (\n",
    "    sales\n",
    "    .join(products, how='left', on='product_id')\n",
    "    .join(stores, how='left', on='store_id')\n",
    "    .with_columns(\n",
    "        (pl.col('quantity') * pl.col('price')).alias('revenue')\n",
    "    )\n",
    "    .group_by(\n",
    "        pl.col('sale_date').dt.year().alias('year').cast(pl.UInt64),\n",
    "        pl.col('country')\n",
    "    )\n",
    "    .agg(\n",
    "        pl.len().alias('n_orders').cast(pl.UInt64),\n",
    "        pl.col('quantity').sum().alias('units_sold').cast(pl.UInt64),\n",
    "        pl.col('revenue').sum().alias('total_revenue').cast(pl.UInt64)\n",
    "    )\n",
    "    .sort(pl.col('year', 'country'))\n",
    ").collect()\n",
    "\n",
    "agg_sales"
   ]
  },
  {
   "cell_type": "code",
   "execution_count": 19,
   "id": "c3551949-de72-435c-ae08-dd9035b0b1da",
   "metadata": {},
   "outputs": [
    {
     "data": {
      "text/html": [
       "\n",
       "<style>\n",
       "  #altair-viz-d4e986515cbe4ee38a83a49f1f7106d1.vega-embed {\n",
       "    width: 100%;\n",
       "    display: flex;\n",
       "  }\n",
       "\n",
       "  #altair-viz-d4e986515cbe4ee38a83a49f1f7106d1.vega-embed details,\n",
       "  #altair-viz-d4e986515cbe4ee38a83a49f1f7106d1.vega-embed details summary {\n",
       "    position: relative;\n",
       "  }\n",
       "</style>\n",
       "<div id=\"altair-viz-d4e986515cbe4ee38a83a49f1f7106d1\"></div>\n",
       "<script type=\"text/javascript\">\n",
       "  var VEGA_DEBUG = (typeof VEGA_DEBUG == \"undefined\") ? {} : VEGA_DEBUG;\n",
       "  (function(spec, embedOpt){\n",
       "    let outputDiv = document.currentScript.previousElementSibling;\n",
       "    if (outputDiv.id !== \"altair-viz-d4e986515cbe4ee38a83a49f1f7106d1\") {\n",
       "      outputDiv = document.getElementById(\"altair-viz-d4e986515cbe4ee38a83a49f1f7106d1\");\n",
       "    }\n",
       "\n",
       "    const paths = {\n",
       "      \"vega\": \"https://cdn.jsdelivr.net/npm/vega@5?noext\",\n",
       "      \"vega-lib\": \"https://cdn.jsdelivr.net/npm/vega-lib?noext\",\n",
       "      \"vega-lite\": \"https://cdn.jsdelivr.net/npm/vega-lite@5.20.1?noext\",\n",
       "      \"vega-embed\": \"https://cdn.jsdelivr.net/npm/vega-embed@6?noext\",\n",
       "    };\n",
       "\n",
       "    function maybeLoadScript(lib, version) {\n",
       "      var key = `${lib.replace(\"-\", \"\")}_version`;\n",
       "      return (VEGA_DEBUG[key] == version) ?\n",
       "        Promise.resolve(paths[lib]) :\n",
       "        new Promise(function(resolve, reject) {\n",
       "          var s = document.createElement('script');\n",
       "          document.getElementsByTagName(\"head\")[0].appendChild(s);\n",
       "          s.async = true;\n",
       "          s.onload = () => {\n",
       "            VEGA_DEBUG[key] = version;\n",
       "            return resolve(paths[lib]);\n",
       "          };\n",
       "          s.onerror = () => reject(`Error loading script: ${paths[lib]}`);\n",
       "          s.src = paths[lib];\n",
       "        });\n",
       "    }\n",
       "\n",
       "    function showError(err) {\n",
       "      outputDiv.innerHTML = `<div class=\"error\" style=\"color:red;\">${err}</div>`;\n",
       "      throw err;\n",
       "    }\n",
       "\n",
       "    function displayChart(vegaEmbed) {\n",
       "      vegaEmbed(outputDiv, spec, embedOpt)\n",
       "        .catch(err => showError(`Javascript Error: ${err.message}<br>This usually means there's a typo in your chart specification. See the javascript console for the full traceback.`));\n",
       "    }\n",
       "\n",
       "    if(typeof define === \"function\" && define.amd) {\n",
       "      requirejs.config({paths});\n",
       "      let deps = [\"vega-embed\"];\n",
       "      require(deps, displayChart, err => showError(`Error loading script: ${err.message}`));\n",
       "    } else {\n",
       "      maybeLoadScript(\"vega\", \"5\")\n",
       "        .then(() => maybeLoadScript(\"vega-lite\", \"5.20.1\"))\n",
       "        .then(() => maybeLoadScript(\"vega-embed\", \"6\"))\n",
       "        .catch(showError)\n",
       "        .then(() => displayChart(vegaEmbed));\n",
       "    }\n",
       "  })({\"config\": {\"view\": {\"continuousWidth\": 300, \"continuousHeight\": 300}}, \"data\": {\"name\": \"data-9eb698c21ed62fa87a891b175667b01d\"}, \"mark\": {\"type\": \"line\", \"tooltip\": true}, \"encoding\": {\"color\": {\"field\": \"country\", \"type\": \"nominal\"}, \"x\": {\"field\": \"year\", \"type\": \"quantitative\"}, \"y\": {\"field\": \"total_revenue\", \"type\": \"quantitative\"}}, \"params\": [{\"name\": \"param_9\", \"select\": {\"type\": \"interval\", \"encodings\": [\"x\", \"y\"]}, \"bind\": \"scales\"}], \"$schema\": \"https://vega.github.io/schema/vega-lite/v5.20.1.json\", \"datasets\": {\"data-9eb698c21ed62fa87a891b175667b01d\": [{\"year\": 2020, \"country\": \"Australia\", \"n_orders\": 19990, \"units_sold\": 110341, \"total_revenue\": 118359049}, {\"year\": 2020, \"country\": \"Austria\", \"n_orders\": 2790, \"units_sold\": 15379, \"total_revenue\": 16846043}, {\"year\": 2020, \"country\": \"Canada\", \"n_orders\": 14377, \"units_sold\": 78965, \"total_revenue\": 85102058}, {\"year\": 2020, \"country\": \"China\", \"n_orders\": 19967, \"units_sold\": 110088, \"total_revenue\": 118359886}, {\"year\": 2020, \"country\": \"Colombia\", \"n_orders\": 5563, \"units_sold\": 29967, \"total_revenue\": 32355688}, {\"year\": 2020, \"country\": \"France\", \"n_orders\": 11312, \"units_sold\": 61582, \"total_revenue\": 66026113}, {\"year\": 2020, \"country\": \"Germany\", \"n_orders\": 8596, \"units_sold\": 47009, \"total_revenue\": 50488743}, {\"year\": 2020, \"country\": \"Italy\", \"n_orders\": 5584, \"units_sold\": 30725, \"total_revenue\": 33333177}, {\"year\": 2020, \"country\": \"Japan\", \"n_orders\": 17191, \"units_sold\": 95189, \"total_revenue\": 102811074}, {\"year\": 2020, \"country\": \"Mexico\", \"n_orders\": 8491, \"units_sold\": 47298, \"total_revenue\": 50949894}, {\"year\": 2020, \"country\": \"Netherlands\", \"n_orders\": 2877, \"units_sold\": 15818, \"total_revenue\": 17127930}, {\"year\": 2020, \"country\": \"Singapore\", \"n_orders\": 8618, \"units_sold\": 47262, \"total_revenue\": 51508234}, {\"year\": 2020, \"country\": \"South Korea\", \"n_orders\": 5719, \"units_sold\": 31415, \"total_revenue\": 34014204}, {\"year\": 2020, \"country\": \"Spain\", \"n_orders\": 2812, \"units_sold\": 15434, \"total_revenue\": 16866798}, {\"year\": 2020, \"country\": \"Taiwan\", \"n_orders\": 2899, \"units_sold\": 15908, \"total_revenue\": 17058180}, {\"year\": 2020, \"country\": \"Thailand\", \"n_orders\": 8567, \"units_sold\": 46911, \"total_revenue\": 50684044}, {\"year\": 2020, \"country\": \"UAE\", \"n_orders\": 14320, \"units_sold\": 78848, \"total_revenue\": 85693863}, {\"year\": 2020, \"country\": \"United Kingdom\", \"n_orders\": 11465, \"units_sold\": 63420, \"total_revenue\": 68762470}, {\"year\": 2020, \"country\": \"United States\", \"n_orders\": 42661, \"units_sold\": 234249, \"total_revenue\": 253108038}, {\"year\": 2021, \"country\": \"Australia\", \"n_orders\": 19992, \"units_sold\": 110365, \"total_revenue\": 118845167}, {\"year\": 2021, \"country\": \"Austria\", \"n_orders\": 2873, \"units_sold\": 16123, \"total_revenue\": 17216199}, {\"year\": 2021, \"country\": \"Canada\", \"n_orders\": 14352, \"units_sold\": 78621, \"total_revenue\": 84498177}, {\"year\": 2021, \"country\": \"China\", \"n_orders\": 19777, \"units_sold\": 108423, \"total_revenue\": 117570159}, {\"year\": 2021, \"country\": \"Colombia\", \"n_orders\": 5746, \"units_sold\": 31383, \"total_revenue\": 33786174}, {\"year\": 2021, \"country\": \"France\", \"n_orders\": 11320, \"units_sold\": 62892, \"total_revenue\": 67867715}, {\"year\": 2021, \"country\": \"Germany\", \"n_orders\": 8771, \"units_sold\": 48386, \"total_revenue\": 52400502}, {\"year\": 2021, \"country\": \"Italy\", \"n_orders\": 5698, \"units_sold\": 31522, \"total_revenue\": 33527337}, {\"year\": 2021, \"country\": \"Japan\", \"n_orders\": 17031, \"units_sold\": 93732, \"total_revenue\": 101342989}, {\"year\": 2021, \"country\": \"Mexico\", \"n_orders\": 8497, \"units_sold\": 46845, \"total_revenue\": 50128721}, {\"year\": 2021, \"country\": \"Netherlands\", \"n_orders\": 2891, \"units_sold\": 15947, \"total_revenue\": 17113108}, {\"year\": 2021, \"country\": \"Singapore\", \"n_orders\": 8501, \"units_sold\": 46528, \"total_revenue\": 49677720}, {\"year\": 2021, \"country\": \"South Korea\", \"n_orders\": 5671, \"units_sold\": 31370, \"total_revenue\": 33991031}, {\"year\": 2021, \"country\": \"Spain\", \"n_orders\": 2803, \"units_sold\": 15406, \"total_revenue\": 16645771}, {\"year\": 2021, \"country\": \"Taiwan\", \"n_orders\": 2835, \"units_sold\": 15802, \"total_revenue\": 16935097}, {\"year\": 2021, \"country\": \"Thailand\", \"n_orders\": 8586, \"units_sold\": 47313, \"total_revenue\": 50927355}, {\"year\": 2021, \"country\": \"UAE\", \"n_orders\": 14252, \"units_sold\": 78835, \"total_revenue\": 84690538}, {\"year\": 2021, \"country\": \"United Kingdom\", \"n_orders\": 11440, \"units_sold\": 62742, \"total_revenue\": 67392000}, {\"year\": 2021, \"country\": \"United States\", \"n_orders\": 42239, \"units_sold\": 232427, \"total_revenue\": 249959995}, {\"year\": 2022, \"country\": \"Australia\", \"n_orders\": 19998, \"units_sold\": 109920, \"total_revenue\": 119156394}, {\"year\": 2022, \"country\": \"Austria\", \"n_orders\": 2863, \"units_sold\": 15648, \"total_revenue\": 17028772}, {\"year\": 2022, \"country\": \"Canada\", \"n_orders\": 14281, \"units_sold\": 78096, \"total_revenue\": 84342883}, {\"year\": 2022, \"country\": \"China\", \"n_orders\": 19742, \"units_sold\": 109705, \"total_revenue\": 117721328}, {\"year\": 2022, \"country\": \"Colombia\", \"n_orders\": 5653, \"units_sold\": 30910, \"total_revenue\": 33207334}, {\"year\": 2022, \"country\": \"France\", \"n_orders\": 11257, \"units_sold\": 61625, \"total_revenue\": 66283467}, {\"year\": 2022, \"country\": \"Germany\", \"n_orders\": 8607, \"units_sold\": 47291, \"total_revenue\": 50732071}, {\"year\": 2022, \"country\": \"Italy\", \"n_orders\": 5781, \"units_sold\": 31414, \"total_revenue\": 34179362}, {\"year\": 2022, \"country\": \"Japan\", \"n_orders\": 17088, \"units_sold\": 93323, \"total_revenue\": 100259913}, {\"year\": 2022, \"country\": \"Mexico\", \"n_orders\": 8617, \"units_sold\": 46855, \"total_revenue\": 50767786}, {\"year\": 2022, \"country\": \"Netherlands\", \"n_orders\": 2845, \"units_sold\": 15557, \"total_revenue\": 16877865}, {\"year\": 2022, \"country\": \"Singapore\", \"n_orders\": 8573, \"units_sold\": 47166, \"total_revenue\": 50784558}, {\"year\": 2022, \"country\": \"South Korea\", \"n_orders\": 5891, \"units_sold\": 32552, \"total_revenue\": 35207388}, {\"year\": 2022, \"country\": \"Spain\", \"n_orders\": 2813, \"units_sold\": 15139, \"total_revenue\": 16184317}, {\"year\": 2022, \"country\": \"Taiwan\", \"n_orders\": 2893, \"units_sold\": 16164, \"total_revenue\": 17391435}, {\"year\": 2022, \"country\": \"Thailand\", \"n_orders\": 8554, \"units_sold\": 46894, \"total_revenue\": 50460992}, {\"year\": 2022, \"country\": \"UAE\", \"n_orders\": 14294, \"units_sold\": 78773, \"total_revenue\": 85017793}, {\"year\": 2022, \"country\": \"United Kingdom\", \"n_orders\": 11292, \"units_sold\": 61371, \"total_revenue\": 66762913}, {\"year\": 2022, \"country\": \"United States\", \"n_orders\": 43089, \"units_sold\": 238271, \"total_revenue\": 257057436}, {\"year\": 2023, \"country\": \"Australia\", \"n_orders\": 19839, \"units_sold\": 109491, \"total_revenue\": 117192822}, {\"year\": 2023, \"country\": \"Austria\", \"n_orders\": 2807, \"units_sold\": 15379, \"total_revenue\": 16474436}, {\"year\": 2023, \"country\": \"Canada\", \"n_orders\": 14201, \"units_sold\": 78204, \"total_revenue\": 84472384}, {\"year\": 2023, \"country\": \"China\", \"n_orders\": 20126, \"units_sold\": 110090, \"total_revenue\": 117631819}, {\"year\": 2023, \"country\": \"Colombia\", \"n_orders\": 5597, \"units_sold\": 30826, \"total_revenue\": 33231347}, {\"year\": 2023, \"country\": \"France\", \"n_orders\": 11286, \"units_sold\": 61810, \"total_revenue\": 66521017}, {\"year\": 2023, \"country\": \"Germany\", \"n_orders\": 8670, \"units_sold\": 47680, \"total_revenue\": 51722850}, {\"year\": 2023, \"country\": \"Italy\", \"n_orders\": 5641, \"units_sold\": 30723, \"total_revenue\": 33345189}, {\"year\": 2023, \"country\": \"Japan\", \"n_orders\": 17255, \"units_sold\": 95183, \"total_revenue\": 102636197}, {\"year\": 2023, \"country\": \"Mexico\", \"n_orders\": 8436, \"units_sold\": 46051, \"total_revenue\": 49473164}, {\"year\": 2023, \"country\": \"Netherlands\", \"n_orders\": 2840, \"units_sold\": 15571, \"total_revenue\": 16898708}, {\"year\": 2023, \"country\": \"Singapore\", \"n_orders\": 8434, \"units_sold\": 46357, \"total_revenue\": 49465175}, {\"year\": 2023, \"country\": \"South Korea\", \"n_orders\": 5654, \"units_sold\": 30986, \"total_revenue\": 33317142}, {\"year\": 2023, \"country\": \"Spain\", \"n_orders\": 2822, \"units_sold\": 15409, \"total_revenue\": 16421506}, {\"year\": 2023, \"country\": \"Taiwan\", \"n_orders\": 2899, \"units_sold\": 16051, \"total_revenue\": 17348386}, {\"year\": 2023, \"country\": \"Thailand\", \"n_orders\": 8473, \"units_sold\": 46418, \"total_revenue\": 49357580}, {\"year\": 2023, \"country\": \"UAE\", \"n_orders\": 14376, \"units_sold\": 78681, \"total_revenue\": 84850208}, {\"year\": 2023, \"country\": \"United Kingdom\", \"n_orders\": 11386, \"units_sold\": 62350, \"total_revenue\": 67016417}, {\"year\": 2023, \"country\": \"United States\", \"n_orders\": 42711, \"units_sold\": 235389, \"total_revenue\": 254063776}, {\"year\": 2024, \"country\": \"Australia\", \"n_orders\": 17461, \"units_sold\": 95506, \"total_revenue\": 103638268}, {\"year\": 2024, \"country\": \"Austria\", \"n_orders\": 2438, \"units_sold\": 13436, \"total_revenue\": 14533694}, {\"year\": 2024, \"country\": \"Canada\", \"n_orders\": 12257, \"units_sold\": 67326, \"total_revenue\": 72325331}, {\"year\": 2024, \"country\": \"China\", \"n_orders\": 17410, \"units_sold\": 96039, \"total_revenue\": 103868304}, {\"year\": 2024, \"country\": \"Colombia\", \"n_orders\": 4965, \"units_sold\": 27483, \"total_revenue\": 29392083}, {\"year\": 2024, \"country\": \"France\", \"n_orders\": 9944, \"units_sold\": 54876, \"total_revenue\": 58961456}, {\"year\": 2024, \"country\": \"Germany\", \"n_orders\": 7333, \"units_sold\": 40201, \"total_revenue\": 43477419}, {\"year\": 2024, \"country\": \"Italy\", \"n_orders\": 4961, \"units_sold\": 27242, \"total_revenue\": 29465143}, {\"year\": 2024, \"country\": \"Japan\", \"n_orders\": 15132, \"units_sold\": 82898, \"total_revenue\": 88898537}, {\"year\": 2024, \"country\": \"Mexico\", \"n_orders\": 7373, \"units_sold\": 40868, \"total_revenue\": 44055782}, {\"year\": 2024, \"country\": \"Netherlands\", \"n_orders\": 2556, \"units_sold\": 13871, \"total_revenue\": 14980859}, {\"year\": 2024, \"country\": \"Singapore\", \"n_orders\": 7365, \"units_sold\": 40515, \"total_revenue\": 43487323}, {\"year\": 2024, \"country\": \"South Korea\", \"n_orders\": 4977, \"units_sold\": 27526, \"total_revenue\": 29714307}, {\"year\": 2024, \"country\": \"Spain\", \"n_orders\": 2436, \"units_sold\": 13589, \"total_revenue\": 14619388}, {\"year\": 2024, \"country\": \"Taiwan\", \"n_orders\": 2456, \"units_sold\": 13593, \"total_revenue\": 14689981}, {\"year\": 2024, \"country\": \"Thailand\", \"n_orders\": 7353, \"units_sold\": 40322, \"total_revenue\": 43487986}, {\"year\": 2024, \"country\": \"UAE\", \"n_orders\": 12153, \"units_sold\": 66835, \"total_revenue\": 72172319}, {\"year\": 2024, \"country\": \"United Kingdom\", \"n_orders\": 9944, \"units_sold\": 54978, \"total_revenue\": 59035920}, {\"year\": 2024, \"country\": \"United States\", \"n_orders\": 37028, \"units_sold\": 204447, \"total_revenue\": 220653559}]}}, {\"mode\": \"vega-lite\"});\n",
       "</script>"
      ],
      "text/plain": [
       "alt.Chart(...)"
      ]
     },
     "execution_count": 19,
     "metadata": {},
     "output_type": "execute_result"
    }
   ],
   "source": [
    "agg_sales.plot.line(x='year', y='total_revenue', color='country')"
   ]
  },
  {
   "cell_type": "code",
   "execution_count": 39,
   "id": "e4bb7381-2f34-419a-b2e8-73b868c56ea0",
   "metadata": {},
   "outputs": [
    {
     "data": {
      "text/html": [
       "<div><style>\n",
       ".dataframe > thead > tr,\n",
       ".dataframe > tbody > tr {\n",
       "  text-align: right;\n",
       "  white-space: pre-wrap;\n",
       "}\n",
       "</style>\n",
       "<small>shape: (10, 5)</small><table border=\"1\" class=\"dataframe\"><thead><tr><th>product_id</th><th>product_name</th><th>n_orders</th><th>units_sold</th><th>total_revenue</th></tr><tr><td>str</td><td>str</td><td>u64</td><td>u64</td><td>u64</td></tr></thead><tbody><tr><td>&quot;P-68&quot;</td><td>&quot;Apple Music&quot;</td><td>11687</td><td>63844</td><td>125453460</td></tr><tr><td>&quot;P-58&quot;</td><td>&quot;iMac 27-inch&quot;</td><td>11791</td><td>64654</td><td>124006372</td></tr><tr><td>&quot;P-25&quot;</td><td>&quot;iPad mini (5th Generation)&quot;</td><td>11734</td><td>64828</td><td>123951136</td></tr><tr><td>&quot;P-23&quot;</td><td>&quot;iPad (9th Generation)&quot;</td><td>11577</td><td>63597</td><td>123950553</td></tr><tr><td>&quot;P-17&quot;</td><td>&quot;Beats Fit Pro&quot;</td><td>11706</td><td>64410</td><td>118449990</td></tr><tr><td>&quot;P-8&quot;</td><td>&quot;MacBook Air (Retina)&quot;</td><td>11674</td><td>63947</td><td>118110109</td></tr><tr><td>&quot;P-12&quot;</td><td>&quot;AirPods (3rd Generation)&quot;</td><td>11672</td><td>64102</td><td>118075884</td></tr><tr><td>&quot;P-31&quot;</td><td>&quot;iPad Pro (M2)&quot;</td><td>11579</td><td>63543</td><td>116029518</td></tr><tr><td>&quot;P-28&quot;</td><td>&quot;iPad Pro 11-inch&quot;</td><td>11703</td><td>64768</td><td>114056448</td></tr><tr><td>&quot;P-2&quot;</td><td>&quot;MacBook Air (M1)&quot;</td><td>11557</td><td>63491</td><td>113204453</td></tr></tbody></table></div>"
      ],
      "text/plain": [
       "shape: (10, 5)\n",
       "┌────────────┬────────────────────────────┬──────────┬────────────┬───────────────┐\n",
       "│ product_id ┆ product_name               ┆ n_orders ┆ units_sold ┆ total_revenue │\n",
       "│ ---        ┆ ---                        ┆ ---      ┆ ---        ┆ ---           │\n",
       "│ str        ┆ str                        ┆ u64      ┆ u64        ┆ u64           │\n",
       "╞════════════╪════════════════════════════╪══════════╪════════════╪═══════════════╡\n",
       "│ P-68       ┆ Apple Music                ┆ 11687    ┆ 63844      ┆ 125453460     │\n",
       "│ P-58       ┆ iMac 27-inch               ┆ 11791    ┆ 64654      ┆ 124006372     │\n",
       "│ P-25       ┆ iPad mini (5th Generation) ┆ 11734    ┆ 64828      ┆ 123951136     │\n",
       "│ P-23       ┆ iPad (9th Generation)      ┆ 11577    ┆ 63597      ┆ 123950553     │\n",
       "│ P-17       ┆ Beats Fit Pro              ┆ 11706    ┆ 64410      ┆ 118449990     │\n",
       "│ P-8        ┆ MacBook Air (Retina)       ┆ 11674    ┆ 63947      ┆ 118110109     │\n",
       "│ P-12       ┆ AirPods (3rd Generation)   ┆ 11672    ┆ 64102      ┆ 118075884     │\n",
       "│ P-31       ┆ iPad Pro (M2)              ┆ 11579    ┆ 63543      ┆ 116029518     │\n",
       "│ P-28       ┆ iPad Pro 11-inch           ┆ 11703    ┆ 64768      ┆ 114056448     │\n",
       "│ P-2        ┆ MacBook Air (M1)           ┆ 11557    ┆ 63491      ┆ 113204453     │\n",
       "└────────────┴────────────────────────────┴──────────┴────────────┴───────────────┘"
      ]
     },
     "execution_count": 39,
     "metadata": {},
     "output_type": "execute_result"
    }
   ],
   "source": [
    "top_products = (\n",
    "    sales\n",
    "    .join(products, on='product_id')\n",
    "    .with_columns(\n",
    "        (pl.col('quantity') * pl.col('price')).alias('revenue')\n",
    "    )\n",
    "    .group_by('product_id')\n",
    "    .agg(\n",
    "        pl.col('product_name').first(),\n",
    "        pl.len().alias('n_orders').cast(pl.UInt64),\n",
    "        pl.col('quantity').sum().alias('units_sold').cast(pl.UInt64),\n",
    "        pl.col('revenue').sum().alias('total_revenue').cast(pl.UInt64),\n",
    "    )\n",
    "    .sort('total_revenue', descending=True)\n",
    ").collect()\n",
    "\n",
    "top_products.head(10)"
   ]
  },
  {
   "cell_type": "code",
   "execution_count": 40,
   "id": "5274ee96-79e8-4062-b9ef-a30783073d4e",
   "metadata": {},
   "outputs": [
    {
     "data": {
      "text/html": [
       "<div><style>\n",
       ".dataframe > thead > tr,\n",
       ".dataframe > tbody > tr {\n",
       "  text-align: right;\n",
       "  white-space: pre-wrap;\n",
       "}\n",
       "</style>\n",
       "<small>shape: (10, 5)</small><table border=\"1\" class=\"dataframe\"><thead><tr><th>category_id</th><th>category_name</th><th>n_orders</th><th>units_sold</th><th>total_revenue</th></tr><tr><td>str</td><td>str</td><td>u64</td><td>u64</td><td>u64</td></tr></thead><tbody><tr><td>&quot;CAT-3&quot;</td><td>&quot;Tablet&quot;</td><td>117142</td><td>645303</td><td>953443623</td></tr><tr><td>&quot;CAT-10&quot;</td><td>&quot;Accessories&quot;</td><td>163849</td><td>899734</td><td>927115953</td></tr><tr><td>&quot;CAT-4&quot;</td><td>&quot;Smartphone&quot;</td><td>151636</td><td>834006</td><td>865147932</td></tr><tr><td>&quot;CAT-2&quot;</td><td>&quot;Audio&quot;</td><td>128731</td><td>707354</td><td>794980579</td></tr><tr><td>&quot;CAT-1&quot;</td><td>&quot;Laptop&quot;</td><td>116369</td><td>640336</td><td>763382551</td></tr><tr><td>&quot;CAT-5&quot;</td><td>&quot;Wearable&quot;</td><td>105521</td><td>582445</td><td>667537447</td></tr><tr><td>&quot;CAT-7&quot;</td><td>&quot;Desktop&quot;</td><td>116812</td><td>642140</td><td>538481345</td></tr><tr><td>&quot;CAT-8&quot;</td><td>&quot;Subscription Service&quot;</td><td>81561</td><td>447062</td><td>368463489</td></tr><tr><td>&quot;CAT-6&quot;</td><td>&quot;Streaming Device&quot;</td><td>35014</td><td>192534</td><td>191622603</td></tr><tr><td>&quot;CAT-9&quot;</td><td>&quot;Smart Speaker&quot;</td><td>23565</td><td>130430</td><td>96117508</td></tr></tbody></table></div>"
      ],
      "text/plain": [
       "shape: (10, 5)\n",
       "┌─────────────┬──────────────────────┬──────────┬────────────┬───────────────┐\n",
       "│ category_id ┆ category_name        ┆ n_orders ┆ units_sold ┆ total_revenue │\n",
       "│ ---         ┆ ---                  ┆ ---      ┆ ---        ┆ ---           │\n",
       "│ str         ┆ str                  ┆ u64      ┆ u64        ┆ u64           │\n",
       "╞═════════════╪══════════════════════╪══════════╪════════════╪═══════════════╡\n",
       "│ CAT-3       ┆ Tablet               ┆ 117142   ┆ 645303     ┆ 953443623     │\n",
       "│ CAT-10      ┆ Accessories          ┆ 163849   ┆ 899734     ┆ 927115953     │\n",
       "│ CAT-4       ┆ Smartphone           ┆ 151636   ┆ 834006     ┆ 865147932     │\n",
       "│ CAT-2       ┆ Audio                ┆ 128731   ┆ 707354     ┆ 794980579     │\n",
       "│ CAT-1       ┆ Laptop               ┆ 116369   ┆ 640336     ┆ 763382551     │\n",
       "│ CAT-5       ┆ Wearable             ┆ 105521   ┆ 582445     ┆ 667537447     │\n",
       "│ CAT-7       ┆ Desktop              ┆ 116812   ┆ 642140     ┆ 538481345     │\n",
       "│ CAT-8       ┆ Subscription Service ┆ 81561    ┆ 447062     ┆ 368463489     │\n",
       "│ CAT-6       ┆ Streaming Device     ┆ 35014    ┆ 192534     ┆ 191622603     │\n",
       "│ CAT-9       ┆ Smart Speaker        ┆ 23565    ┆ 130430     ┆ 96117508      │\n",
       "└─────────────┴──────────────────────┴──────────┴────────────┴───────────────┘"
      ]
     },
     "execution_count": 40,
     "metadata": {},
     "output_type": "execute_result"
    }
   ],
   "source": [
    "top_category = (\n",
    "    top_products.lazy()\n",
    "    .join(products, on='product_id', how='left')\n",
    "    .join(category, on='category_id', how='left')\n",
    "    .group_by('category_id')\n",
    "    .agg(\n",
    "        pl.col('category_name').first(),\n",
    "        pl.col('n_orders', 'units_sold', 'total_revenue').sum(),\n",
    "    )\n",
    "    .sort('total_revenue', descending=True)\n",
    ").collect()\n",
    "\n",
    "top_category"
   ]
  },
  {
   "cell_type": "code",
   "execution_count": null,
   "id": "e4396987-f5ed-41bd-96b9-09429bcbb912",
   "metadata": {},
   "outputs": [],
   "source": []
  }
 ],
 "metadata": {
  "kernelspec": {
   "display_name": "Python 3 (ipykernel)",
   "language": "python",
   "name": "python3"
  },
  "language_info": {
   "codemirror_mode": {
    "name": "ipython",
    "version": 3
   },
   "file_extension": ".py",
   "mimetype": "text/x-python",
   "name": "python",
   "nbconvert_exporter": "python",
   "pygments_lexer": "ipython3",
   "version": "3.13.5"
  }
 },
 "nbformat": 4,
 "nbformat_minor": 5
}
